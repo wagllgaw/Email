{
 "cells": [
  {
   "cell_type": "code",
   "execution_count": 1,
   "metadata": {
    "collapsed": true
   },
   "outputs": [],
   "source": [
    "## Model processing notebook\n"
   ]
  },
  {
   "cell_type": "code",
   "execution_count": 2,
   "metadata": {
    "collapsed": true
   },
   "outputs": [],
   "source": [
    "import pandas as pd\n",
    "import json\n",
    "from os import listdir\n",
    "import os\n",
    "import re\n",
    "import pymongo\n",
    "import pickle"
   ]
  },
  {
   "cell_type": "markdown",
   "metadata": {},
   "source": [
    "## Steps here:\n",
    "\n",
    "1. Import data from pickle file\n",
    "1. Run text processing function to get feature matrix\n",
    "1. Run cross-validation on a classifier\n",
    "\n",
    "\n"
   ]
  },
  {
   "cell_type": "markdown",
   "metadata": {},
   "source": [
    "------------------------------\n",
    "## Step 1"
   ]
  },
  {
   "cell_type": "code",
   "execution_count": 3,
   "metadata": {
    "collapsed": false
   },
   "outputs": [
    {
     "name": "stdout",
     "output_type": "stream",
     "text": [
      "<class 'pandas.core.frame.DataFrame'>\n",
      "Int64Index: 13316 entries, 0 to 13315\n",
      "Data columns (total 3 columns):\n",
      "FROM    13316 non-null object\n",
      "TO      13316 non-null object\n",
      "TEXT    13316 non-null object\n",
      "dtypes: object(3)\n",
      "memory usage: 416.1+ KB\n"
     ]
    }
   ],
   "source": [
    "# Step 1\n",
    "filepath = 'FlaskApp/data/full_data.pkl'\n",
    "\n",
    "data = pd.read_pickle(filepath)\n",
    "data.info()"
   ]
  },
  {
   "cell_type": "code",
   "execution_count": 8,
   "metadata": {
    "collapsed": false
   },
   "outputs": [
    {
     "data": {
      "text/html": [
       "<div style=\"max-height:1000px;max-width:1500px;overflow:auto;\">\n",
       "<table border=\"1\" class=\"dataframe\">\n",
       "  <thead>\n",
       "    <tr style=\"text-align: right;\">\n",
       "      <th></th>\n",
       "      <th>TEXT</th>\n",
       "    </tr>\n",
       "    <tr>\n",
       "      <th>TO</th>\n",
       "      <th></th>\n",
       "    </tr>\n",
       "  </thead>\n",
       "  <tbody>\n",
       "    <tr>\n",
       "      <th>CEO</th>\n",
       "      <td>  457</td>\n",
       "    </tr>\n",
       "    <tr>\n",
       "      <th>Director</th>\n",
       "      <td>  847</td>\n",
       "    </tr>\n",
       "    <tr>\n",
       "      <th>Employee</th>\n",
       "      <td> 4165</td>\n",
       "    </tr>\n",
       "    <tr>\n",
       "      <th>In House Lawyer</th>\n",
       "      <td>   56</td>\n",
       "    </tr>\n",
       "    <tr>\n",
       "      <th>Manager</th>\n",
       "      <td> 1087</td>\n",
       "    </tr>\n",
       "    <tr>\n",
       "      <th>Manager)</th>\n",
       "      <td>  215</td>\n",
       "    </tr>\n",
       "    <tr>\n",
       "      <th>Managing Director</th>\n",
       "      <td>  413</td>\n",
       "    </tr>\n",
       "    <tr>\n",
       "      <th>President</th>\n",
       "      <td> 1137</td>\n",
       "    </tr>\n",
       "    <tr>\n",
       "      <th>Trader</th>\n",
       "      <td>  681</td>\n",
       "    </tr>\n",
       "    <tr>\n",
       "      <th>Vice President</th>\n",
       "      <td> 4258</td>\n",
       "    </tr>\n",
       "  </tbody>\n",
       "</table>\n",
       "</div>"
      ],
      "text/plain": [
       "                   TEXT\n",
       "TO                     \n",
       "CEO                 457\n",
       "Director            847\n",
       "Employee           4165\n",
       "In House Lawyer      56\n",
       "Manager            1087\n",
       "Manager)            215\n",
       "Managing Director   413\n",
       "President          1137\n",
       "Trader              681\n",
       "Vice President     4258"
      ]
     },
     "execution_count": 8,
     "metadata": {},
     "output_type": "execute_result"
    }
   ],
   "source": [
    "data[['TO','TEXT']].groupby('TO').count()"
   ]
  },
  {
   "cell_type": "markdown",
   "metadata": {},
   "source": [
    "------------------------------\n",
    "## Step 2"
   ]
  },
  {
   "cell_type": "code",
   "execution_count": 4,
   "metadata": {
    "collapsed": false
   },
   "outputs": [],
   "source": [
    "from sklearn.feature_extraction.text import TfidfVectorizer\n",
    "\n",
    "class Processor(object):\n",
    "    \n",
    "    def __init__(self):\n",
    "        self.myVect = None\n",
    "        pass\n",
    "    \n",
    "    def fit_transform(self, X, flag=True):\n",
    "        \n",
    "        \n",
    "        \n",
    "        if flag:\n",
    "            self.myVect = TfidfVectorizer()\n",
    "            self.myVect.fit(X)\n",
    "            \n",
    "        output = self.myVect.transform(X)\n",
    "        \n",
    "        return output.toarray()\n",
    "    \n",
    "    def fit(self, *args):\n",
    "        self.fit_transform(*args)\n",
    "    \n",
    "    def transform(self, X):\n",
    "        output = self.fit_transform(X, flag=False)\n",
    "        return output\n",
    "  "
   ]
  },
  {
   "cell_type": "markdown",
   "metadata": {},
   "source": [
    "------------------------------\n",
    "## Step 3"
   ]
  },
  {
   "cell_type": "code",
   "execution_count": 5,
   "metadata": {
    "collapsed": false
   },
   "outputs": [
    {
     "name": "stdout",
     "output_type": "stream",
     "text": [
      "Accuracy score:  0.907657657658\n",
      "Accuracy score:  0.90161472024\n",
      "Accuracy score:  0.90311678558\n",
      "Accuracy score:  0.903492301915\n",
      "Accuracy score:  0.891100262861\n",
      "Overall Model accuracy:  0.891100262861\n",
      "Full set Accuracy score:  0.9980474617\n"
     ]
    }
   ],
   "source": [
    "from sklearn.ensemble import RandomForestClassifier\n",
    "from sklearn.cross_validation import KFold\n",
    "from sklearn.metrics import accuracy_score\n",
    "\n",
    "#testing purposes\n",
    "myData = data\n",
    "\n",
    "\n",
    "myFold = KFold(len(myData.TO), n_folds=5, shuffle=True)\n",
    "\n",
    "accuracyScores = []\n",
    "\n",
    "for trainIndex, testIndex in myFold:\n",
    "    myModel = RandomForestClassifier(n_estimators=100, n_jobs=-1)\n",
    "    myProcessor = Processor()\n",
    "    \n",
    "    trainX = myProcessor.fit_transform(data.TEXT[trainIndex])\n",
    "    trainY = myData.FROM[trainIndex]\n",
    "    \n",
    "    testX = myProcessor.transform(myData.TEXT[testIndex])\n",
    "    testY = myData.FROM[testIndex]\n",
    "    \n",
    "    myModel.fit(trainX, trainY)\n",
    "    predicts = myModel.predict(testX)\n",
    "    \n",
    "    accuracy = accuracy_score(testY, predicts)\n",
    "    accuracyScores.append(accuracy)\n",
    "    print 'Accuracy score: ', accuracy\n",
    "    \n",
    "print 'Overall Model accuracy: ', np.mean(accuracy)\n",
    "\n",
    "# Summary Code\n",
    "\n",
    "#Train Full Model\n",
    "myModel = RandomForestClassifier(n_estimators=100, n_jobs=-1)\n",
    "myProcessor = Processor()\n",
    "\n",
    "trainX = myProcessor.fit_transform(data.TEXT)\n",
    "trainY = myData.FROM\n",
    "\n",
    "testX = myProcessor.transform(myData.TEXT)\n",
    "testY = myData.FROM\n",
    "\n",
    "myModel.fit(trainX, trainY)\n",
    "predicts = myModel.predict(testX)\n",
    "\n",
    "accuracy = accuracy_score(testY, predicts)\n",
    "\n",
    "print 'Full set Accuracy score: ', accuracy"
   ]
  },
  {
   "cell_type": "code",
   "execution_count": 9,
   "metadata": {
    "collapsed": false
   },
   "outputs": [
    {
     "data": {
      "text/plain": [
       "0.57849445989930004"
      ]
     },
     "execution_count": 9,
     "metadata": {},
     "output_type": "execute_result"
    }
   ],
   "source": []
  },
  {
   "cell_type": "code",
   "execution_count": 6,
   "metadata": {
    "collapsed": false
   },
   "outputs": [],
   "source": [
    "minidata = data[:5]"
   ]
  },
  {
   "cell_type": "code",
   "execution_count": 26,
   "metadata": {
    "collapsed": false
   },
   "outputs": [],
   "source": [
    "miniFold = KFold(len(minidata.FROM), n_folds=5)"
   ]
  },
  {
   "cell_type": "code",
   "execution_count": 32,
   "metadata": {
    "collapsed": false
   },
   "outputs": [
    {
     "name": "stdout",
     "output_type": "stream",
     "text": [
      "[1 2 3 4] [0]\n",
      "1    Manager\n",
      "2    Manager\n",
      "3    Manager\n",
      "4    Manager\n",
      "Name: FROM, dtype: object\n",
      "[0 2 3 4] [1]\n",
      "0    Manager\n",
      "2    Manager\n",
      "3    Manager\n",
      "4    Manager\n",
      "Name: FROM, dtype: object\n",
      "[0 1 3 4] [2]\n",
      "0    Manager\n",
      "1    Manager\n",
      "3    Manager\n",
      "4    Manager\n",
      "Name: FROM, dtype: object\n",
      "[0 1 2 4] [3]\n",
      "0    Manager\n",
      "1    Manager\n",
      "2    Manager\n",
      "4    Manager\n",
      "Name: FROM, dtype: object\n",
      "[0 1 2 3] [4]\n",
      "0    Manager\n",
      "1    Manager\n",
      "2    Manager\n",
      "3    Manager\n",
      "Name: FROM, dtype: object\n"
     ]
    }
   ],
   "source": [
    "for trainIndex, testIndex in miniFold:\n",
    "    print trainIndex, testIndex\n",
    "    print minidata.FROM[trainIndex]"
   ]
  },
  {
   "cell_type": "code",
   "execution_count": null,
   "metadata": {
    "collapsed": true
   },
   "outputs": [],
   "source": []
  }
 ],
 "metadata": {
  "kernelspec": {
   "display_name": "Python 2",
   "language": "python",
   "name": "python2"
  },
  "language_info": {
   "codemirror_mode": {
    "name": "ipython",
    "version": 2
   },
   "file_extension": ".py",
   "mimetype": "text/x-python",
   "name": "python",
   "nbconvert_exporter": "python",
   "pygments_lexer": "ipython2",
   "version": "2.7.10"
  }
 },
 "nbformat": 4,
 "nbformat_minor": 0
}
