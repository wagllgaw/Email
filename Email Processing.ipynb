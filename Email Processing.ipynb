{
 "cells": [
  {
   "cell_type": "code",
   "execution_count": 1,
   "metadata": {
    "collapsed": true
   },
   "outputs": [],
   "source": [
    "## Ipython notebook to open emails and store them in a json file"
   ]
  },
  {
   "cell_type": "code",
   "execution_count": 194,
   "metadata": {
    "collapsed": false
   },
   "outputs": [],
   "source": [
    "import pandas as pd\n",
    "import json\n",
    "from os import listdir\n",
    "import os\n",
    "import re\n",
    "import pymongo"
   ]
  },
  {
   "cell_type": "code",
   "execution_count": 31,
   "metadata": {
    "collapsed": false
   },
   "outputs": [],
   "source": [
    "filepath = './FlaskApp/data/maildir/'"
   ]
  },
  {
   "cell_type": "code",
   "execution_count": 33,
   "metadata": {
    "collapsed": false
   },
   "outputs": [],
   "source": [
    "users = listdir(pwd)"
   ]
  },
  {
   "cell_type": "code",
   "execution_count": 266,
   "metadata": {
    "collapsed": true
   },
   "outputs": [],
   "source": [
    "import pymongo\n",
    "## Set up Mongo DB\n",
    "from pymongo import MongoClient\n",
    "\n",
    "client = MongoClient()\n",
    "db = client['email']\n",
    "collection = db['email']\n"
   ]
  },
  {
   "cell_type": "code",
   "execution_count": 265,
   "metadata": {
    "collapsed": false
   },
   "outputs": [
    {
     "data": {
      "text/plain": [
       "{u'n': 28290, u'ok': 1}"
      ]
     },
     "execution_count": 265,
     "metadata": {},
     "output_type": "execute_result"
    }
   ],
   "source": [
    "db.email.remove()"
   ]
  },
  {
   "cell_type": "code",
   "execution_count": null,
   "metadata": {
    "collapsed": true
   },
   "outputs": [],
   "source": []
  },
  {
   "cell_type": "code",
   "execution_count": null,
   "metadata": {
    "collapsed": true
   },
   "outputs": [],
   "source": []
  },
  {
   "cell_type": "code",
   "execution_count": null,
   "metadata": {
    "collapsed": true
   },
   "outputs": [],
   "source": []
  },
  {
   "cell_type": "code",
   "execution_count": null,
   "metadata": {
    "collapsed": false
   },
   "outputs": [],
   "source": [
    "## Main loop for processing\n",
    "# for a given user, read in the emails, strip out various metrics, \n",
    "\n",
    "DIRECTORIES_TO_PROCESS = ['_sent_mail', 'inbox']\n",
    "\n",
    "def readFiles(filepath, user, master):\n",
    "    directories = listdir(filepath + user)\n",
    "    \n",
    "    ## Create list of emails\n",
    "    walkthrough = os.walk(filepath+'/'+user)\n",
    "    userEmails = []\n",
    "    for i in walkthrough:\n",
    "        for j in i[2]:\n",
    "            email = i[0]+'/'+j\n",
    "\n",
    "            email_id, parsedText = stripFiles(email)\n",
    "            \n",
    "            db.email.insert({email_id:parsedText})\n",
    "\n",
    "    return master\n",
    "\n",
    "\n",
    "def stripFiles(email):\n",
    "    \n",
    "    with open(email) as f:\n",
    "        text = f.read()\n",
    "    text = text.decode(errors='ignore').encode('utf-8', errors='ignore')\n",
    "    \n",
    "    email_id = re.sub('\\.', '',\n",
    "                      re.sub('\\.Java.*', '', \n",
    "                             re.sub('Message-ID: <', '', \n",
    "                                    re.findall('Message-ID:.*\\n',text)[0]), flags=re.DOTALL))\n",
    "    \n",
    "    email_from = re.findall('.*enron\\.com', \n",
    "                            re.sub('From: ', '', \n",
    "                                   re.findall('From:.*\\n',text)[0]))\n",
    "    \n",
    "    email_to = re.findall('.*enron\\.com',\n",
    "                          re.sub('\\t','',\n",
    "                                 re.sub('To: ', '',\n",
    "                                        re.findall('To:.*:',text, flags=re.DOTALL)[0])))\n",
    "    \n",
    "    ccs = re.findall('Cc:.*\\n',text)\n",
    "    if ccs:\n",
    "        email_ccs = re.findall('.*enron\\.com', re.sub('Cc: ', '', ccs[0]))\n",
    "    else:\n",
    "        email_ccs = []\n",
    "        \n",
    "    email_subject = [re.sub('Subject: ', '',\n",
    "                            re.findall('Subject:.*\\n',text)[0])]\n",
    "\n",
    "    email_text = re.sub('X-FileName:.*', '',\n",
    "                         re.findall('X-FileName:.*',text, flags=re.DOTALL)[0])\n",
    "\n",
    "    \n",
    "    output = {'email_from':email_from,\n",
    "              'email_to':email_to, \n",
    "              'email_text':email_text,\n",
    "              'email_ccs':email_ccs,\n",
    "              'email_subject':email_subject,\n",
    "              'full_text':text\n",
    "             }\n",
    "    \n",
    "    return email_id, output\n",
    "\n",
    "\n",
    "\n",
    "master = {}\n",
    "\n",
    "users = listdir(filepath)\n",
    "users = users\n",
    "\n",
    "for user in users:\n",
    "    readFiles(filepath, user, master)\n"
   ]
  },
  {
   "cell_type": "code",
   "execution_count": 224,
   "metadata": {
    "collapsed": false
   },
   "outputs": [],
   "source": [
    "c = db.email.find()"
   ]
  },
  {
   "cell_type": "code",
   "execution_count": 227,
   "metadata": {
    "collapsed": false
   },
   "outputs": [
    {
     "data": {
      "text/plain": [
       "{u'273948341075855703230': {u'email_ccs': [],\n",
       "  u'email_from': [u'phillip.allen@enron.com'],\n",
       "  u'email_subject': [u'Re: Pick your Poison?\\r\\n'],\n",
       "  u'email_text': [u'\\n\\r\\nNo can do.  \\nAre you in the zone?'],\n",
       "  u'email_to': [u'chad.landry@enron.com'],\n",
       "  u'full_text': u'Message-ID: <27394834.1075855703230.JavaMail.evans@thyme>\\r\\nDate: Wed, 9 Aug 2000 06:36:00 -0700 (PDT)\\r\\nFrom: phillip.allen@enron.com\\r\\nTo: chad.landry@enron.com\\r\\nSubject: Re: Pick your Poison?\\r\\nMime-Version: 1.0\\r\\nContent-Type: text/plain; charset=us-ascii\\r\\nContent-Transfer-Encoding: 7bit\\r\\nX-From: Phillip K Allen\\r\\nX-To: Chad Landry\\r\\nX-cc: \\r\\nX-bcc: \\r\\nX-Folder: \\\\Phillip_Allen_June2001\\\\Notes Folders\\\\All documents\\r\\nX-Origin: Allen-P\\r\\nX-FileName: pallen.nsf\\r\\n\\r\\nNo can do.  \\nAre you in the zone?'},\n",
       " u'_id': ObjectId('5641309804d8644ed1afedbf')}"
      ]
     },
     "execution_count": 227,
     "metadata": {},
     "output_type": "execute_result"
    }
   ],
   "source": [
    "c.next()"
   ]
  },
  {
   "cell_type": "code",
   "execution_count": 264,
   "metadata": {
    "collapsed": false
   },
   "outputs": [
    {
     "data": {
      "text/plain": [
       "{'email_ccs': [],\n",
       " 'email_from': [],\n",
       " 'email_subject': ['NCL Philanthropies\\r\\n'],\n",
       " 'email_text': '\\n\\r\\n\\nMembership:  Please remember that we have commitments to our  philanthropies even though you may have completed your hours.  We are in  need for people to sign up for: \\nKEEP PACE TRANSITION NIGHT \\nTuesday,  January 29; 6:30 p.m. - 8:30 p.m. \\nCall Jane Price at 281-587-1990  \\nAtria Retirement Home - Bingo and Painting, Call Diana Denton for dates  (281-370-6765).\\n \\n-Claire  Loria',\n",
       " 'email_to': ['sumpter.teresa@enron.com, stone.pam@enron.com, smithey.linda@enron.com',\n",
       "  'sinitiere.marynelle@enron.com, shrode.cindy@enron.com',\n",
       "  'short.suzanne@enron.com, scardello.jackie@enron.com',\n",
       "  'roberts.gina@enron.com, richmond.trisch@enron.com',\n",
       "  'reese.lisa@enron.com, ramsey.nancy@enron.com',\n",
       "  'purser.brenda@enron.com, price.lisa@enron.com, price.jane@enron.com',\n",
       "  'poullard.marie@enron.com, podraza.judy@enron.com',\n",
       "  'petrak.janet@enron.com, pearce.becky@enron.com',\n",
       "  'pauley.sharon@enron.com, passero.colleen@enron.com',\n",
       "  'organ.kathryn@enron.com, munn.mary@enron.com, morgan.tia@enron.com',\n",
       "  'montalvo.meg@enron.com, molohon.nora@enron.com, mikel.val@enron.com',\n",
       "  'mcmullen.katie@enron.com, mclaughlin.patricia@enron.com',\n",
       "  'mcguinness.lori@enron.com, mcdaniel.teri@enron.com',\n",
       "  'mccracken.claudia@enron.com, matthews.patricia@enron.com',\n",
       "  'martin.joy@enron.com, marshall.sarah@enron.com',\n",
       "  'mark.elaine@enron.com, lyons.gayle@enron.com, loria.claire@enron.com',\n",
       "  'loggins.susan@enron.com, lindsey.barbara@enron.com',\n",
       "  'leal.carmen@enron.com, kreiner.linda@enron.com',\n",
       "  'klingsporn.donah@enron.com, klatt.lori@enron.com',\n",
       "  'king.kathy@enron.com, khanna.anjali@enron.com',\n",
       "  'kapasi.anhar@enron.com, jortner.sheila@enron.com',\n",
       "  'jones.barbara@enron.com, johnson.kelly@enron.com',\n",
       "  'isgett.devonne@enron.com, holub.kay@enron.com',\n",
       "  'holmes.gayle@enron.com, hoing.debbie@enron.com',\n",
       "  'hodge.vicki@enron.com, hartzog.janet@enron.com',\n",
       "  'haney.susan@enron.com, gregory.colleen@enron.com',\n",
       "  'glenn.tia@enron.com, glapa.kathlene@enron.com',\n",
       "  'gladstein.robin@enron.com, gibson.beverly@enron.com',\n",
       "  'galante.nancy@enron.com, fritz.margaret@enron.com',\n",
       "  'ewalt.lori@enron.com, ellis.michele@enron.com',\n",
       "  'dufrene.lynette@enron.com, doran.maggie@enron.com',\n",
       "  'dipaolo.nancy@enron.com, denton.diana@enron.com',\n",
       "  'day.cynthia@enron.com, craddock.gay@enron.com',\n",
       "  'connell.linda@enron.com, christy.linda@enron.com',\n",
       "  'chabaud.peggy@enron.com, byrd.sandy@enron.com',\n",
       "  'buckley.miranda@enron.com, broadus.therese@enron.com',\n",
       "  'britton.joan@enron.com, black.kathy@enron.com',\n",
       "  'billman.sharlane@enron.com, bell.teresa@enron.com',\n",
       "  'bell.connie@enron.com, sally.beck@enron.com, bauer.gina@enron.com',\n",
       "  'barger.jean@enron.com, baker.karen@enron.com, assour.cindy@enron.com',\n",
       "  'arrington.sue@enron.com, alvarado.sharon@enron.com',\n",
       "  'alvarado.estella@enron.com'],\n",
       " 'full_text': 'Message-ID: <13235995.1075840348885.JavaMail.evans@thyme>\\r\\nDate: Wed, 23 Jan 2002 19:39:18 -0800 (PST)\\r\\nFrom: bgibson50606@houston.rr.com\\r\\nTo: sumpter.teresa@enron.com, stone.pam@enron.com, smithey.linda@enron.com, \\r\\n\\tsinitiere.marynelle@enron.com, shrode.cindy@enron.com, \\r\\n\\tshort.suzanne@enron.com, scardello.jackie@enron.com, \\r\\n\\troberts.gina@enron.com, richmond.trisch@enron.com, \\r\\n\\treese.lisa@enron.com, ramsey.nancy@enron.com, \\r\\n\\tpurser.brenda@enron.com, price.lisa@enron.com, price.jane@enron.com, \\r\\n\\tpoullard.marie@enron.com, podraza.judy@enron.com, \\r\\n\\tpetrak.janet@enron.com, pearce.becky@enron.com, \\r\\n\\tpauley.sharon@enron.com, passero.colleen@enron.com, \\r\\n\\torgan.kathryn@enron.com, munn.mary@enron.com, morgan.tia@enron.com, \\r\\n\\tmontalvo.meg@enron.com, molohon.nora@enron.com, mikel.val@enron.com, \\r\\n\\tmcmullen.katie@enron.com, mclaughlin.patricia@enron.com, \\r\\n\\tmcguinness.lori@enron.com, mcdaniel.teri@enron.com, \\r\\n\\tmccracken.claudia@enron.com, matthews.patricia@enron.com, \\r\\n\\tmartin.joy@enron.com, marshall.sarah@enron.com, \\r\\n\\tmark.elaine@enron.com, lyons.gayle@enron.com, loria.claire@enron.com, \\r\\n\\tloggins.susan@enron.com, lindsey.barbara@enron.com, \\r\\n\\tleal.carmen@enron.com, kreiner.linda@enron.com, \\r\\n\\tklingsporn.donah@enron.com, klatt.lori@enron.com, \\r\\n\\tking.kathy@enron.com, khanna.anjali@enron.com, \\r\\n\\tkapasi.anhar@enron.com, jortner.sheila@enron.com, \\r\\n\\tjones.barbara@enron.com, johnson.kelly@enron.com, \\r\\n\\tisgett.devonne@enron.com, holub.kay@enron.com, \\r\\n\\tholmes.gayle@enron.com, hoing.debbie@enron.com, \\r\\n\\thodge.vicki@enron.com, hartzog.janet@enron.com, \\r\\n\\thaney.susan@enron.com, gregory.colleen@enron.com, \\r\\n\\tglenn.tia@enron.com, glapa.kathlene@enron.com, \\r\\n\\tgladstein.robin@enron.com, gibson.beverly@enron.com, \\r\\n\\tgalante.nancy@enron.com, fritz.margaret@enron.com, \\r\\n\\tewalt.lori@enron.com, ellis.michele@enron.com, \\r\\n\\tdufrene.lynette@enron.com, doran.maggie@enron.com, \\r\\n\\tdipaolo.nancy@enron.com, denton.diana@enron.com, \\r\\n\\tday.cynthia@enron.com, craddock.gay@enron.com, \\r\\n\\tconnell.linda@enron.com, christy.linda@enron.com, \\r\\n\\tchabaud.peggy@enron.com, byrd.sandy@enron.com, \\r\\n\\tbuckley.miranda@enron.com, broadus.therese@enron.com, \\r\\n\\tbritton.joan@enron.com, black.kathy@enron.com, \\r\\n\\tbillman.sharlane@enron.com, bell.teresa@enron.com, \\r\\n\\tbell.connie@enron.com, sally.beck@enron.com, bauer.gina@enron.com, \\r\\n\\tbarger.jean@enron.com, baker.karen@enron.com, assour.cindy@enron.com, \\r\\n\\tarrington.sue@enron.com, alvarado.sharon@enron.com, \\r\\n\\talvarado.estella@enron.com\\r\\nSubject: NCL Philanthropies\\r\\nMime-Version: 1.0\\r\\nContent-Type: text/plain; charset=us-ascii\\r\\nContent-Transfer-Encoding: 7bit\\r\\nX-From: \"Beverly Gibson\" <bgibson50606@houston.rr.com>@ENRON\\r\\nX-To: Teresa Sumpter <Sumphoust@aol.com>, Pam Stone <RStone9522@aol.com>, Linda Smithey <ges@houston.rr.com>, MaryNelle Sinitiere <mns1024@houston.rr.com>, Cindy Shrode <shrode376@aol.com>, Suzanne Short <sjstex@att.net>, Jackie Scardello <Jackie.Scardello@Compaq.com>, Gina Roberts <RobertsM5@aol.com>, Trisch Richmond <trichmond00@hotmail.com>, Lisa Reese <BKReese98@aol.com>, Nancy Ramsey <nramsey@houston.rr.com>, Brenda Purser <Tpurser@houston.rr.com>, Lisa Price <Gemi602@aol.com>, Jane Price <mprice@hia.net>, Marie Poullard <Mr_Clean@SWBell.net>, Judy Podraza <jipod@aol.com>, Janet Petrak <janetpetrak@usa.net>, Becky Pearce <rebachian@hotmail.com>, Sharon Pauley <spauley@SWBell.net>, Colleen Passero <cpassero@houston.rr.com>, Kathryn Organ <DKA4O@aol.com>, Mary Munn <MMUNN@family.net>, Tia Morgan <TFMMO@aol.com>, Meg Montalvo <Montalvo97@aol.com>, Nora Molohon <rmolohon@pdq.net>, Val Mikel <mikl@texas.net>, Katie McMullen <KatieMcmullen@aol.com>, Patricia McLaughlin <PatriciaM@houston.rr.com>, Lori McGuinness <thomasmc@msn.com>, Teri McDaniel <DAnz7MNM@aol.com>, Claudia McCracken <claudia.mccracken@Compaq.com>, Patricia Matthews <Trish@Quadcitys.com>, Joy Martin <MJoyMartin@aol.com>, Sarah Marshall <sarahm@flex.net>, Elaine Mark <tegamark@ix.netcom.com>, Gayle Lyons <Lauraly1386@aol.com>, Claire Loria <Momcat5cwl@aol.com>, Susan Loggins <sklduece@aol.com>, Barbara Lindsey <BabsLind@aol.com>, Carmen Leal <ECMCCH@aol.com>, Linda Kreiner <tkreiner1@worldnet.att.net>, Donah Klingsporn <bklingsporn@houston.rr.com>, Lori Klatt <jklatt@houston.rr.com>, Kathy King <kathytx@hotmail.com>, Anjali Khanna <dakhanna@hotmail.com>, Anhar Kapasi <abbasak@aol.com>, Sheila Jortner <jortner@ev1.net>, Barbara Jones <bwjski@aol.com>, Kelly Johnson <jfriends@clearsail.net>, Devonne Isgett <ESI0001@aol.com>, Kay Holub <KLHolub@aol.com>, Gayle Holmes <RCHOLMES13@yahoo.com>, Debbie Hoing <sdhoing@aol.com>, Vicki Hodge <jhodge7895@aol.com>, Janet Hartzog <Ketchup1200@aol.com>, Susan Haney <slynneh2@aol.com>, Colleen Gregory <colleen_gregory@hotmail.com>, Tia Glenn <TGlenn8246@cs.com>, Kathlene Glapa <kglapa@pdq.net>, Robin Gladstein <rgladstein@aol.com>, Beverly Gibson <bgibson50606@yahoo.com>, Nancy Galante <ncgalante@aol.com>, Margaret Fritz <dannyfritz@worldnet.att.net>, Lori Ewalt <lewalt53@aol.com>, Michele Ellis <mellis@pdq.net>, Lynette Dufrene <CDMcandles@aol.com>, Maggie Doran <madjad@flash.net>, Nancy DiPaolo <JNKMDip@aol.com>, Diana Denton <dianaLD101@aol.com>, Cynthia Day <cday@houston.rr.com>, Gay Craddock <jcraddock@ev1.net>, Linda Connell <jgconn@yahoo.com>, Linda Christy <linda@thechristys.net>, Peggy Chabaud <luckynumber44@hotmail.com>, Sandy Byrd <markandsandybyrd@msn.com>, Miranda Buckley <MirandaBuckley@PZLQS.com>, Therese Broadus <luvzakc@aol.com>, Joan Britton <JoanBrtt@netscape.net>, Kathy Black <kblack@aokcomputers.com>, Sharlane Billman <gsetbill@gateway.net>, Teresa Bell <tgallagherbell@msn.com>, Connie Bell <KBSPIKE@aol.com>, Beck, Sally </O=ENRON/OU=NA/CN=RECIPIENTS/CN=SBECK>, Gina Bauer <Bauer_John@msn.com>, Jean Barger <jbiz@flash.net>, Karen Baker <Birdie5263@aol.com>, Cindy Assour <swmfly@telocity.com>, Sue Arrington <bettyboop021457@aol.com>, Sharon Alvarado <SJA103@aol.com>, Estella Alvarado <Eda311@aol.com>\\r\\nX-cc: \\r\\nX-bcc: \\r\\nX-Folder: \\\\sbeck\\\\Deleted Items\\r\\nX-Origin: BECK-S\\r\\nX-FileName: sally beck 1-28-02.pst\\r\\n\\r\\n\\nMembership:  Please remember that we have commitments to our  philanthropies even though you may have completed your hours.  We are in  need for people to sign up for: \\nKEEP PACE TRANSITION NIGHT \\nTuesday,  January 29; 6:30 p.m. - 8:30 p.m. \\nCall Jane Price at 281-587-1990  \\nAtria Retirement Home - Bingo and Painting, Call Diana Denton for dates  (281-370-6765).\\n \\n-Claire  Loria'}"
      ]
     },
     "execution_count": 264,
     "metadata": {},
     "output_type": "execute_result"
    }
   ],
   "source": [
    "id, content = stripFiles('/Users/datascientist/Desktop/abergin/Email/FlaskApp/data/maildir/beck-s/deleted_items/13.')\n",
    "content"
   ]
  },
  {
   "cell_type": "code",
   "execution_count": 237,
   "metadata": {
    "collapsed": false
   },
   "outputs": [
    {
     "data": {
      "text/plain": [
       "['sumpter.teresa@enron.com, stone.pam@enron.com, smithey.linda@enron.com']"
      ]
     },
     "execution_count": 237,
     "metadata": {},
     "output_type": "execute_result"
    }
   ],
   "source": [
    "content['email_to']"
   ]
  },
  {
   "cell_type": "code",
   "execution_count": 262,
   "metadata": {
    "collapsed": false
   },
   "outputs": [
    {
     "data": {
      "text/plain": [
       "ObjectId('5641369904d8644ed1b05794')"
      ]
     },
     "execution_count": 262,
     "metadata": {},
     "output_type": "execute_result"
    }
   ],
   "source": [
    "db.email.insert({id:content})"
   ]
  },
  {
   "cell_type": "code",
   "execution_count": null,
   "metadata": {
    "collapsed": true
   },
   "outputs": [],
   "source": []
  }
 ],
 "metadata": {
  "kernelspec": {
   "display_name": "Python 2",
   "language": "python",
   "name": "python2"
  },
  "language_info": {
   "codemirror_mode": {
    "name": "ipython",
    "version": 2
   },
   "file_extension": ".py",
   "mimetype": "text/x-python",
   "name": "python",
   "nbconvert_exporter": "python",
   "pygments_lexer": "ipython2",
   "version": "2.7.10"
  }
 },
 "nbformat": 4,
 "nbformat_minor": 0
}
