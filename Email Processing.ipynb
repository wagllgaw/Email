{
 "cells": [
  {
   "cell_type": "code",
   "execution_count": 1,
   "metadata": {
    "collapsed": true
   },
   "outputs": [],
   "source": [
    "## Ipython notebook to open emails and store them in a json file"
   ]
  },
  {
   "cell_type": "code",
   "execution_count": 52,
   "metadata": {
    "collapsed": false
   },
   "outputs": [],
   "source": [
    "import pandas as pd\n",
    "import json\n",
    "from os import listdir\n",
    "import os\n",
    "import re"
   ]
  },
  {
   "cell_type": "code",
   "execution_count": 31,
   "metadata": {
    "collapsed": false
   },
   "outputs": [],
   "source": [
    "filepath = './FlaskApp/data/maildir/'"
   ]
  },
  {
   "cell_type": "code",
   "execution_count": 33,
   "metadata": {
    "collapsed": false
   },
   "outputs": [],
   "source": [
    "users = listdir(pwd)"
   ]
  },
  {
   "cell_type": "code",
   "execution_count": 34,
   "metadata": {
    "collapsed": true
   },
   "outputs": [],
   "source": [
    "import pymongo\n",
    "## Set up Mongo DB\n"
   ]
  },
  {
   "cell_type": "code",
   "execution_count": 193,
   "metadata": {
    "collapsed": false
   },
   "outputs": [
    {
     "ename": "KeyboardInterrupt",
     "evalue": "",
     "output_type": "error",
     "traceback": [
      "\u001b[0;31m---------------------------------------------------------------------------\u001b[0m",
      "\u001b[0;31mKeyboardInterrupt\u001b[0m                         Traceback (most recent call last)",
      "\u001b[0;32m<ipython-input-193-a16b7430f71c>\u001b[0m in \u001b[0;36m<module>\u001b[0;34m()\u001b[0m\n\u001b[1;32m     56\u001b[0m \u001b[0musers\u001b[0m \u001b[0;34m=\u001b[0m \u001b[0musers\u001b[0m\u001b[0;34m[\u001b[0m\u001b[0;34m:\u001b[0m\u001b[0;36m10\u001b[0m\u001b[0;34m]\u001b[0m\u001b[0;34m\u001b[0m\u001b[0m\n\u001b[1;32m     57\u001b[0m \u001b[0;32mfor\u001b[0m \u001b[0muser\u001b[0m \u001b[0;32min\u001b[0m \u001b[0musers\u001b[0m\u001b[0;34m:\u001b[0m\u001b[0;34m\u001b[0m\u001b[0m\n\u001b[0;32m---> 58\u001b[0;31m     \u001b[0mreadFiles\u001b[0m\u001b[0;34m(\u001b[0m\u001b[0mfilepath\u001b[0m\u001b[0;34m,\u001b[0m \u001b[0muser\u001b[0m\u001b[0;34m,\u001b[0m \u001b[0mmaster\u001b[0m\u001b[0;34m)\u001b[0m\u001b[0;34m\u001b[0m\u001b[0m\n\u001b[0m\u001b[1;32m     59\u001b[0m \u001b[0;34m\u001b[0m\u001b[0m\n\u001b[1;32m     60\u001b[0m \u001b[0;32mwith\u001b[0m \u001b[0mopen\u001b[0m\u001b[0;34m(\u001b[0m\u001b[0;34m'data.json'\u001b[0m\u001b[0;34m,\u001b[0m \u001b[0;34m'w'\u001b[0m\u001b[0;34m)\u001b[0m \u001b[0;32mas\u001b[0m \u001b[0mfp\u001b[0m\u001b[0;34m:\u001b[0m\u001b[0;34m\u001b[0m\u001b[0m\n",
      "\u001b[0;32m<ipython-input-193-a16b7430f71c>\u001b[0m in \u001b[0;36mreadFiles\u001b[0;34m(filepath, user, master)\u001b[0m\n\u001b[1;32m     14\u001b[0m             \u001b[0memail\u001b[0m \u001b[0;34m=\u001b[0m \u001b[0mi\u001b[0m\u001b[0;34m[\u001b[0m\u001b[0;36m0\u001b[0m\u001b[0;34m]\u001b[0m\u001b[0;34m+\u001b[0m\u001b[0;34m'/'\u001b[0m\u001b[0;34m+\u001b[0m\u001b[0mj\u001b[0m\u001b[0;34m\u001b[0m\u001b[0m\n\u001b[1;32m     15\u001b[0m \u001b[0;34m\u001b[0m\u001b[0m\n\u001b[0;32m---> 16\u001b[0;31m             \u001b[0mid\u001b[0m\u001b[0;34m,\u001b[0m \u001b[0mparsedText\u001b[0m \u001b[0;34m=\u001b[0m \u001b[0mstripFiles\u001b[0m\u001b[0;34m(\u001b[0m\u001b[0memail\u001b[0m\u001b[0;34m)\u001b[0m\u001b[0;34m\u001b[0m\u001b[0m\n\u001b[0m\u001b[1;32m     17\u001b[0m             \u001b[0mmaster\u001b[0m\u001b[0;34m[\u001b[0m\u001b[0mid\u001b[0m\u001b[0;34m]\u001b[0m \u001b[0;34m=\u001b[0m \u001b[0mparsedText\u001b[0m\u001b[0;34m\u001b[0m\u001b[0m\n\u001b[1;32m     18\u001b[0m \u001b[0;34m\u001b[0m\u001b[0m\n",
      "\u001b[0;32m<ipython-input-193-a16b7430f71c>\u001b[0m in \u001b[0;36mstripFiles\u001b[0;34m(email)\u001b[0m\n\u001b[1;32m     23\u001b[0m \u001b[0;34m\u001b[0m\u001b[0m\n\u001b[1;32m     24\u001b[0m     \u001b[0;32mwith\u001b[0m \u001b[0mopen\u001b[0m\u001b[0;34m(\u001b[0m\u001b[0memail\u001b[0m\u001b[0;34m)\u001b[0m \u001b[0;32mas\u001b[0m \u001b[0mf\u001b[0m\u001b[0;34m:\u001b[0m\u001b[0;34m\u001b[0m\u001b[0m\n\u001b[0;32m---> 25\u001b[0;31m         \u001b[0mtext\u001b[0m \u001b[0;34m=\u001b[0m \u001b[0mf\u001b[0m\u001b[0;34m.\u001b[0m\u001b[0mread\u001b[0m\u001b[0;34m(\u001b[0m\u001b[0;34m)\u001b[0m\u001b[0;34m\u001b[0m\u001b[0m\n\u001b[0m\u001b[1;32m     26\u001b[0m \u001b[0;34m\u001b[0m\u001b[0m\n\u001b[1;32m     27\u001b[0m     \u001b[0memail_id\u001b[0m \u001b[0;34m=\u001b[0m \u001b[0mre\u001b[0m\u001b[0;34m.\u001b[0m\u001b[0msub\u001b[0m\u001b[0;34m(\u001b[0m\u001b[0;34m'\\.Java.*'\u001b[0m\u001b[0;34m,\u001b[0m \u001b[0;34m''\u001b[0m\u001b[0;34m,\u001b[0m \u001b[0mre\u001b[0m\u001b[0;34m.\u001b[0m\u001b[0msub\u001b[0m\u001b[0;34m(\u001b[0m\u001b[0;34m'Message-ID: <'\u001b[0m\u001b[0;34m,\u001b[0m \u001b[0;34m''\u001b[0m\u001b[0;34m,\u001b[0m \u001b[0mre\u001b[0m\u001b[0;34m.\u001b[0m\u001b[0mfindall\u001b[0m\u001b[0;34m(\u001b[0m\u001b[0;34m'Message-ID:.*\\n'\u001b[0m\u001b[0;34m,\u001b[0m\u001b[0mtext\u001b[0m\u001b[0;34m)\u001b[0m\u001b[0;34m[\u001b[0m\u001b[0;36m0\u001b[0m\u001b[0;34m]\u001b[0m\u001b[0;34m)\u001b[0m\u001b[0;34m,\u001b[0m \u001b[0mflags\u001b[0m\u001b[0;34m=\u001b[0m\u001b[0mre\u001b[0m\u001b[0;34m.\u001b[0m\u001b[0mDOTALL\u001b[0m\u001b[0;34m)\u001b[0m\u001b[0;34m\u001b[0m\u001b[0m\n",
      "\u001b[0;31mKeyboardInterrupt\u001b[0m: "
     ]
    }
   ],
   "source": [
    "## Main loop for processing\n",
    "# for a given user, read in the emails, strip out various metrics, \n",
    "\n",
    "DIRECTORIES_TO_PROCESS = ['_sent_mail', 'inbox']\n",
    "\n",
    "def readFiles(filepath, user, master):\n",
    "    directories = listdir(filepath + user)\n",
    "    \n",
    "    ## Create list of emails\n",
    "    walkthrough = os.walk(filepath+'/'+user)\n",
    "    userEmails = []\n",
    "    for i in walkthrough:\n",
    "        for j in i[2]:\n",
    "            email = i[0]+'/'+j\n",
    "\n",
    "            id, parsedText = stripFiles(email)\n",
    "            master[id] = parsedText\n",
    "\n",
    "    return master\n",
    "\n",
    "\n",
    "def stripFiles(email):\n",
    "    \n",
    "    with open(email) as f:\n",
    "        text = f.read()\n",
    "\n",
    "    email_id = re.sub('\\.Java.*', '', re.sub('Message-ID: <', '', re.findall('Message-ID:.*\\n',text)[0]), flags=re.DOTALL)\n",
    "    email_from = re.findall('.*enron\\.com', re.sub('From: ', '', re.findall('From:.*\\n',text)[0]))\n",
    "    email_to = re.findall('.*enron\\.com', re.sub('To: ', '', re.findall('To:.*\\n',text)[0]))\n",
    "    ccs = re.findall('Cc:.*\\n',text)\n",
    "    if ccs:\n",
    "        email_cc = re.findall('.*enron\\.com', re.sub('Cc: ', '', ccs[0]))\n",
    "    else:\n",
    "        email_cc = []\n",
    "    email_subject = [re.sub('Subject: ', '', re.findall('Subject:.*\\n',text)[0])]\n",
    "\n",
    "    email_text = [re.sub('X-FileName:.*', '',re.findall('X-FileName:.*',text, flags=re.DOTALL)[0])]\n",
    "        \n",
    "    full_text = text\n",
    "    \n",
    "    output = {'email_from':email_from,\n",
    "              'email_to':email_to, \n",
    "              'email_text':email_text,\n",
    "              'email_ccs':email_text,\n",
    "              'email_subject':email_subject,\n",
    "              'full_text':full_text\n",
    "             }\n",
    "    \n",
    "    return email_id, output\n",
    "\n",
    "\n",
    "\n",
    "master = {}\n",
    "\n",
    "users = listdir(filepath)\n",
    "users = users[:10]\n",
    "\n",
    "for user in users:\n",
    "    readFiles(filepath, user, master)\n",
    "\n",
    "\n",
    "\n"
   ]
  },
  {
   "cell_type": "code",
   "execution_count": 56,
   "metadata": {
    "collapsed": false
   },
   "outputs": [],
   "source": [
    "a = os.walk(filepath)"
   ]
  },
  {
   "cell_type": "code",
   "execution_count": 103,
   "metadata": {
    "collapsed": false
   },
   "outputs": [
    {
     "name": "stdout",
     "output_type": "stream",
     "text": [
      "/Users/datascientist/Desktop/abergin/Email\n"
     ]
    }
   ],
   "source": [
    "cd Email"
   ]
  },
  {
   "cell_type": "code",
   "execution_count": 190,
   "metadata": {
    "collapsed": false
   },
   "outputs": [
    {
     "name": "stdout",
     "output_type": "stream",
     "text": [
      "id: ['32051761.1075863606815']\n",
      "email_from: ['robert.badeer@enron.com']\n",
      "email_to: ['tim.belden@enron.com, teri.whitcomb@enron.com, kathy.axford@enron.com']\n",
      "email_cc: []\n",
      "email_text: ['\\n\\r\\nI will be out of the office on Friday, Monday and Tuesday for vacation. I \\nwill be able to be reached by cell phone if necessary.\\n\\nBob']\n",
      "email_subject ['Out of Ofice\\r\\n']\n"
     ]
    }
   ],
   "source": [
    "email = './FlaskApp/data/maildir//badeer-r/_sent_mail/1.'\n",
    "with open(email) as f:\n",
    "    text = f.read()\n",
    "\n",
    "email_id = [re.sub('\\.Java.*', '', re.sub('Message-ID: <', '', re.findall('Message-ID:.*\\n',text)[0]), flags=re.DOTALL)]\n",
    "email_from = re.findall('.*enron\\.com', re.sub('From: ', '', re.findall('From:.*\\n',text)[0]))\n",
    "email_to = re.findall('.*enron\\.com', re.sub('To: ', '', re.findall('To:.*\\n',text)[0]))\n",
    "ccs = re.findall('Cc:.*\\n',text)\n",
    "if ccs:\n",
    "    email_cc = re.findall('.*enron\\.com', re.sub('Cc: ', '', ccs[0]))\n",
    "else:\n",
    "    email_cc = []\n",
    "email_subject = [re.sub('Subject: ', '', re.findall('Subject:.*\\n',text)[0])]\n",
    "\n",
    "email_text = [re.sub('X-FileName:.*', '',re.findall('X-FileName:.*',text, flags=re.DOTALL)[0])]\n",
    "\n",
    "\n",
    "print 'id:', email_id\n",
    "print 'email_from:', email_from\n",
    "print 'email_to:', email_to\n",
    "print 'email_cc:', email_cc\n",
    "print 'email_text:', email_text\n",
    "print 'email_subject', email_subject\n",
    "    \n",
    "    \n",
    "email_id, email_from, email_to, email_text, email_subject, full_text = stripFiles(text)\n",
    "\n",
    "\n",
    "\n",
    "master[user][user+'_'+email_id] = {'email_from':email_from,\n",
    "                                  'email_to':email_to, \n",
    "                                  'email_text':email_text,\n",
    "                                  'email_subject':email_subject,\n",
    "                                  'full_text':full_text\n",
    "                                 }\n"
   ]
  },
  {
   "cell_type": "code",
   "execution_count": null,
   "metadata": {
    "collapsed": true
   },
   "outputs": [],
   "source": []
  }
 ],
 "metadata": {
  "kernelspec": {
   "display_name": "Python 2",
   "language": "python",
   "name": "python2"
  },
  "language_info": {
   "codemirror_mode": {
    "name": "ipython",
    "version": 2
   },
   "file_extension": ".py",
   "mimetype": "text/x-python",
   "name": "python",
   "nbconvert_exporter": "python",
   "pygments_lexer": "ipython2",
   "version": "2.7.10"
  }
 },
 "nbformat": 4,
 "nbformat_minor": 0
}
